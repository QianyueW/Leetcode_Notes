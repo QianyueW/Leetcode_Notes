{
  "nbformat": 4,
  "nbformat_minor": 0,
  "metadata": {
    "colab": {
      "name": "Array.ipynb",
      "provenance": [],
      "collapsed_sections": [
        "6kVgTmobhGlW",
        "KRl2V20qwFMt"
      ],
      "toc_visible": true
    },
    "kernelspec": {
      "name": "python3",
      "display_name": "Python 3"
    },
    "language_info": {
      "name": "python"
    }
  },
  "cells": [
    {
      "cell_type": "markdown",
      "metadata": {
        "id": "K6kZAKrPg2BM"
      },
      "source": [
        "\n",
        "# Array(数组)\n",
        "\n",
        "---\n",
        "\n"
      ]
    },
    {
      "cell_type": "code",
      "metadata": {
        "id": "GN1xVxP_A5YK"
      },
      "source": [
        "from typing import List # python3输入方式的新包包~"
      ],
      "execution_count": 1,
      "outputs": []
    },
    {
      "cell_type": "markdown",
      "metadata": {
        "id": "6kVgTmobhGlW"
      },
      "source": [
        "## **1. 两数之和**\n",
        "\n",
        "输入：nums = [2,7,11,15], target = 9\n",
        "\n",
        "输出：[0,1]\n",
        "\n",
        "解释：因为 nums[0] + nums[1] == 9 ，返回 [0, 1] 。\n"
      ]
    },
    {
      "cell_type": "markdown",
      "metadata": {
        "id": "P46ySwwDwwjZ"
      },
      "source": [
        "**答题关键**\n",
        "1.   **每一个元素不能被使用两次**，所以遍历数组中的元素时候，只需要从当前元素之后进行查找就可以了。\n",
        "2.   要考虑如果不存在符合题解的结果，则需要返回空数组。\n",
        "3.   要考虑输入的数组只有一个元素，即不可能有符合题解的结果，则在第二重loop处跳出结束，返回空数组。\n"
      ]
    },
    {
      "cell_type": "code",
      "metadata": {
        "id": "GhDg3uuvkFPZ"
      },
      "source": [
        "class Solution:\n",
        "    def twoSum(self, nums: List[int], target: int) -> List[int]:\n",
        "      n = len(nums)\n",
        "      for i in range(n):\n",
        "        for j in range(i+1,n):\n",
        "          if nums[i]+nums[j]==target:\n",
        "            return [i,j]\n",
        "      return []"
      ],
      "execution_count": 2,
      "outputs": []
    },
    {
      "cell_type": "code",
      "metadata": {
        "colab": {
          "base_uri": "https://localhost:8080/"
        },
        "id": "m5Jw4dZAnBhQ",
        "outputId": "36482c27-e423-4b7f-ddc2-278dc5a7693a"
      },
      "source": [
        "ans = Solution()\n",
        "ans.twoSum([2,3,4,5,6,7],9)"
      ],
      "execution_count": 13,
      "outputs": [
        {
          "output_type": "execute_result",
          "data": {
            "text/plain": [
              "[]"
            ]
          },
          "metadata": {},
          "execution_count": 13
        }
      ]
    },
    {
      "cell_type": "code",
      "metadata": {
        "id": "YSFX_TUrnBjv"
      },
      "source": [
        "if __name__ == '__main__':\n",
        "    sss = Solution()\n",
        "    sss.twoSum([7,2,3,4,5],8)"
      ],
      "execution_count": 12,
      "outputs": []
    },
    {
      "cell_type": "code",
      "metadata": {
        "id": "OG3qGsQruOQt"
      },
      "source": [
        "for i in range(1,1):\n",
        "  print(i)"
      ],
      "execution_count": 18,
      "outputs": []
    },
    {
      "cell_type": "markdown",
      "metadata": {
        "id": "wxeXzjlHyVZj"
      },
      "source": [
        "**复杂度分析**\n",
        "\n",
        "时间复杂度：O(N^2)\n",
        "O(N \n",
        "2\n",
        " )，其中 NN 是数组中的元素数量。最坏情况下数组中任意两个数都要被匹配一次。\n",
        "\n",
        "空间复杂度：O(1)O(1)。"
      ]
    },
    {
      "cell_type": "code",
      "metadata": {
        "id": "wnVrCVxlyVA-"
      },
      "source": [
        ""
      ],
      "execution_count": null,
      "outputs": []
    },
    {
      "cell_type": "markdown",
      "metadata": {
        "id": "CNzXTBZ2tZS0"
      },
      "source": [
        "**进阶解法**：利用"
      ]
    },
    {
      "cell_type": "code",
      "metadata": {
        "id": "DKgOEcX0tYt6"
      },
      "source": [
        "class Solution:\n",
        "    def twoSum(self, nums, target):\n",
        "        \"\"\"\n",
        "        :type nums: List[int]\n",
        "        :type target: int\n",
        "        :rtype: List[int]\n",
        "        \"\"\"\n",
        "        hashmap = {}\n",
        "        for index, num in enumerate(nums):\n",
        "            another_num = target - num\n",
        "            if another_num in hashmap:\n",
        "                return [hashmap[another_num], index]\n",
        "            hashmap[num] = index\n",
        "        return None"
      ],
      "execution_count": null,
      "outputs": []
    },
    {
      "cell_type": "markdown",
      "metadata": {
        "id": "KRl2V20qwFMt"
      },
      "source": [
        "## **122. 两数之和**\n",
        "\n",
        "输入：nums = [2,7,11,15], target = 9\n",
        "\n",
        "输出：[0,1]\n",
        "\n",
        "解释：因为 nums[0] + nums[1] == 9 ，返回 [0, 1] 。"
      ]
    },
    {
      "cell_type": "code",
      "metadata": {
        "id": "u_pYY4Fyxaj6"
      },
      "source": [
        ""
      ],
      "execution_count": null,
      "outputs": []
    }
  ]
}