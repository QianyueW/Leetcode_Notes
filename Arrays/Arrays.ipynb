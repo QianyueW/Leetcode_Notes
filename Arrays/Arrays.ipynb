{
  "nbformat": 4,
  "nbformat_minor": 0,
  "metadata": {
    "colab": {
      "name": "Arrays.ipynb",
      "provenance": [],
      "toc_visible": true
    },
    "kernelspec": {
      "name": "python3",
      "display_name": "Python 3"
    },
    "language_info": {
      "name": "python"
    }
  },
  "cells": [
    {
      "cell_type": "code",
      "metadata": {
        "id": "GN1xVxP_A5YK"
      },
      "source": [
        "from typing import List"
      ],
      "execution_count": 12,
      "outputs": []
    },
    {
      "cell_type": "code",
      "metadata": {
        "colab": {
          "base_uri": "https://localhost:8080/"
        },
        "id": "7VM_hoyn_r_o",
        "outputId": "a4eeb868-e49a-4b3d-e516-cf80feaa24bf"
      },
      "source": [
        "class Solution:\n",
        "    def twoSum(self, nums: List[int], target: int) -> List[int]:\n",
        "      #target_idx = []\n",
        "      n = len(nums) # get the length of input arrays\n",
        "      for i in range(n):\n",
        "          for j in range(i + 1, n):\n",
        "              if nums[i] + nums[j] == target:\n",
        "                  print([i,j]) # 输出打印仅作验证使用，返回结果处应直接输出题目要求的结果\n",
        "                  return [i, j]\n",
        "\n",
        "      return [i, j]\n",
        "      #return target_idx\n",
        "\n",
        "# Press the green button in the gutter to run the script.\n",
        "if __name__ == '__main__':\n",
        "    sss = Solution()\n",
        "    sss.twoSum([7,2,3,4,5],8)\n",
        "\n",
        "\n"
      ],
      "execution_count": 4,
      "outputs": [
        {
          "output_type": "stream",
          "name": "stdout",
          "text": [
            "[2, 4]\n"
          ]
        }
      ]
    },
    {
      "cell_type": "code",
      "metadata": {
        "id": "PDNFKyld6t-W"
      },
      "source": [
        "class Solution(object):\n",
        "    def twoSum(self, nums, target):\n",
        "        \"\"\"\n",
        "        :type nums: List[int]\n",
        "        :type target: int\n",
        "        :rtype: List[int]\n",
        "        \"\"\"\n",
        "        target_idx = []\n",
        "        for idx,ele in enumerate(nums):\n",
        "            if abs(target-ele) >= 0 and i not in result:\n",
        "              \n",
        "        return target_idx"
      ],
      "execution_count": null,
      "outputs": []
    },
    {
      "cell_type": "code",
      "metadata": {
        "id": "lHsm7L8G6-zt"
      },
      "source": [
        "class Solution(object):\n",
        "    def twoSum(self, nums, target):\n",
        "        \"\"\"\n",
        "        :type nums: List[int]\n",
        "        :type target: int\n",
        "        :rtype: List[int]\n",
        "        \"\"\"\n",
        "        result = []\n",
        "        for i, each in enumerate(nums):\n",
        "            if abs(target-each) >=0 and i not in result:\n",
        "                try:\n",
        "                    tmp = nums.index(target - each)\n",
        "                    if tmp != i:\n",
        "                        result.append(i)\n",
        "                        result.append(tmp)\n",
        "                except:\n",
        "                    continue\n",
        "        return result"
      ],
      "execution_count": null,
      "outputs": []
    }
  ]
}